{
 "cells": [
  {
   "cell_type": "code",
   "execution_count": 7,
   "id": "c7b366f8-f2cd-4c16-a0f0-6d8229b7f086",
   "metadata": {},
   "outputs": [
    {
     "name": "stdout",
     "output_type": "stream",
     "text": [
      "Overwriting tarea_1.cpp\n"
     ]
    }
   ],
   "source": [
    "%%writefile tarea_1.cpp\n",
    "#include <iostream>\n",
    "#include <string>\n",
    "\n",
    "using namespace std;\n",
    "\n",
    "int main(){\n",
    "    std::string name = \"Juan\";\n",
    "    int age = 6;\n",
    "    std::string address = \"Santander, Cale Albert Einstein\";\n",
    "    char firstLetter = 'R';\n",
    "\n",
    "    std::cout<<\"Nombre:\"<<name<<std::endl;\n",
    "    std::cout<<\"Edad:\"<<age<<std::endl;\n",
    "    std::cout<<\"Direccion:\"<<address<<std::endl;\n",
    "    std::cout<<\"Primera letra del apellido:\"<<firstLetter<<std::endl;\n",
    "    \n",
    "    return 0;\n",
    "}"
   ]
  },
  {
   "cell_type": "code",
   "execution_count": 8,
   "id": "fd56888e-14f5-4633-8012-a8cb8a5b3551",
   "metadata": {},
   "outputs": [
    {
     "name": "stdout",
     "output_type": "stream",
     "text": [
      "Nombre:Juan\n",
      "Edad:6\n",
      "Direccion:Santander, Cale Albert Einstein\n",
      "Primera letra del apellido:R\n"
     ]
    }
   ],
   "source": [
    "!g++ tarea_1.cpp -o tarea_1 && ./tarea_1"
   ]
  },
  {
   "cell_type": "code",
   "execution_count": null,
   "id": "1a0930de-aa76-4277-bbbf-373cb2f85f7d",
   "metadata": {},
   "outputs": [],
   "source": []
  }
 ],
 "metadata": {
  "kernelspec": {
   "display_name": "Python 3 (ipykernel)",
   "language": "python",
   "name": "python3"
  },
  "language_info": {
   "codemirror_mode": {
    "name": "ipython",
    "version": 3
   },
   "file_extension": ".py",
   "mimetype": "text/x-python",
   "name": "python",
   "nbconvert_exporter": "python",
   "pygments_lexer": "ipython3",
   "version": "3.10.12"
  }
 },
 "nbformat": 4,
 "nbformat_minor": 5
}
